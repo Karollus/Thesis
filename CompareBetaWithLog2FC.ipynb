{
 "cells": [
  {
   "cell_type": "code",
   "execution_count": 1,
   "id": "2d2a3a66-3c76-4758-8385-2ac94a94e9dd",
   "metadata": {},
   "outputs": [],
   "source": [
    "import os\n",
    "import glob\n",
    "import yaml\n",
    "\n",
    "import numpy as np\n",
    "import pandas as pd\n",
    "import polars as pl\n",
    "import pyranges as pr\n",
    "import pyfaidx\n",
    "import scipy\n",
    "import torch\n",
    "import tqdm\n",
    "import anndata as ad\n",
    "import pyranges\n",
    "import plotnine as p9\n",
    "\n",
    "from sklearn.metrics import average_precision_score, roc_auc_score"
   ]
  },
  {
   "cell_type": "markdown",
   "id": "24d99f0f-6e69-417a-95d3-fe830d2070e9",
   "metadata": {},
   "source": [
    "# Get variants"
   ]
  },
  {
   "cell_type": "markdown",
   "id": "475fb6bb-a74f-4a38-9f27-bf9c85fe0e2c",
   "metadata": {},
   "source": [
    "## Load EBI Susie finemapped variants"
   ]
  },
  {
   "cell_type": "code",
   "execution_count": 2,
   "id": "fb5fd5f6-c256-4ed7-8cb1-d635aa357cb5",
   "metadata": {},
   "outputs": [],
   "source": [
    "# Downloaded from https://github.com/eQTL-Catalogue/eQTL-Catalogue-resources/blob/master/data_tables/dataset_metadata.tsv\n",
    "susie_datasets = pd.read_table('Data/Susie/dataset_metadata.tsv').query('quant_method == \"ge\" and study_label == \"GTEx\"')"
   ]
  },
  {
   "cell_type": "code",
   "execution_count": 3,
   "id": "fc15f156-f5f0-494d-aafe-70797f361d66",
   "metadata": {},
   "outputs": [],
   "source": [
    "# Downloaded from http://ftp.ebi.ac.uk/pub/databases/spot/eQTL\n",
    "susie_df_list = []\n",
    "\n",
    "for _,row in susie_datasets.iterrows():\n",
    "    study_id = row['study_id']\n",
    "    dataset_id = row['dataset_id']\n",
    "    path = f'Data/Susie/{study_id}/{dataset_id}/{dataset_id}.credible_sets.tsv.gz'\n",
    "    susie_df = pd.read_table(path, compression='gzip')\n",
    "    susie_df = susie_df.query('pip > 0.9') # select high-pip variants\n",
    "    susie_df['study_label'] = row['study_label']\n",
    "    susie_df['study_id'] = row['study_id']\n",
    "    susie_df['dataset_id'] = row['dataset_id']\n",
    "    susie_df['tissue_label'] = row['tissue_label']\n",
    "    susie_df['condition_label'] = row['condition_label']\n",
    "    susie_df['sample_size'] = row['sample_size']\n",
    "    susie_df['Chromosome'] = susie_df['variant'].apply(lambda x: x.split('_')[0])\n",
    "    susie_df['Pos'] = susie_df['variant'].apply(lambda x: x.split('_')[1]).astype('int') - 1\n",
    "    susie_df['Ref'] = susie_df['variant'].apply(lambda x: x.split('_')[2])\n",
    "    susie_df['Alt'] = susie_df['variant'].apply(lambda x: x.split('_')[3])\n",
    "    susie_df = susie_df.loc[(susie_df['Ref'].str.len() == 1) & (susie_df['Alt'].str.len() == 1)]\n",
    "    susie_df_list.append(susie_df)\n",
    "    \n",
    "susie_df = pd.concat(susie_df_list).reset_index(drop=True)"
   ]
  },
  {
   "cell_type": "code",
   "execution_count": 4,
   "id": "42b3413f-a9db-4745-a8ec-361111b6a3a7",
   "metadata": {},
   "outputs": [],
   "source": [
    "susie_df = susie_df[['variant','gene_id','tissue_label','beta']]"
   ]
  },
  {
   "cell_type": "markdown",
   "id": "1d546191-d51b-4193-8b79-e1d7d1fb9c31",
   "metadata": {},
   "source": [
    "## Load GTEx log(aFC)"
   ]
  },
  {
   "cell_type": "code",
   "execution_count": 5,
   "id": "3d702f8a-6578-4754-9fb9-71b9b510eca7",
   "metadata": {},
   "outputs": [],
   "source": [
    "# Downloaded from https://www.gtexportal.org/home/downloads/adult-gtex/qtl\n",
    "gtex_df_list = []\n",
    "\n",
    "for path in glob.glob('Data/Susie/GTEx_Analysis_v10_eQTL_updated/*.v10.eGenes.txt.gz'):\n",
    "    #path = f'Data/Susie/GTEx_Analysis_v10_eQTL_updated/Adipose_Subcutaneous.v10.eGenes.txt.gz'\n",
    "    gtex_df = pd.read_table(path, compression='gzip')[['variant_id','gene_id','slope','afc']]#.columns\n",
    "    gtex_df['variant_id'] = gtex_df['variant_id'].str.replace('_b38','') \n",
    "    gtex_df['tissue'] = path.split('/')[-1].split('.')[0].lower()\n",
    "    gtex_df['gene_id'] = gtex_df['gene_id'].apply(lambda x: x.split('.')[0])\n",
    "    gtex_df_list.append(gtex_df.rename(columns={'tissue':'tissue_label_gtex','variant_id':'variant'}))\n",
    "\n",
    "gtex_df = pd.concat(gtex_df_list).reset_index(drop=True)"
   ]
  },
  {
   "cell_type": "markdown",
   "id": "bbde7ea2-62bb-45bc-96ed-fe40135a183e",
   "metadata": {},
   "source": [
    "## Merge"
   ]
  },
  {
   "cell_type": "code",
   "execution_count": 7,
   "id": "54fc2421-5797-478f-97a9-d6db40f4ad56",
   "metadata": {},
   "outputs": [],
   "source": [
    "mapping = {\n",
    "     'LCL':'cells_ebv-transformed_lymphocytes',\n",
    "     'adipose':'adipose_subcutaneous',\n",
    "     'adipose (visceral)':'adipose_visceral_omentum',\n",
    "     'adrenal gland':'adrenal_gland',\n",
    "     'artery (aorta)':'artery_aorta',\n",
    "     'artery (coronary)':'artery_coronary',\n",
    "     'artery (tibial)':'artery_tibial',\n",
    "     'blood':'whole_blood',\n",
    "     'brain (DLPFC)':'brain_frontal_cortex_ba9',\n",
    "     'brain (amygdala)':'brain_amygdala',\n",
    "     'brain (anterior cingulate cortex)':'brain_anterior_cingulate_cortex_ba24',\n",
    "     'brain (caudate)':'brain_caudate_basal_ganglia',\n",
    "     'brain (cerebellum)':'brain_cerebellum',\n",
    "     'brain (cortex)':'brain_cortex',\n",
    "     'brain (hippocampus)':'brain_hippocampus',\n",
    "     'brain (hypothalamus)':'brain_hypothalamus',\n",
    "     'brain (nucleus accumbens)':'brain_nucleus_accumbens_basal_ganglia',\n",
    "     'brain (putamen)':'brain_putamen_basal_ganglia',\n",
    "     'brain (spinal cord)':'brain_spinal_cord_cervical_c-1',\n",
    "     'brain (substantia nigra)':'brain_substantia_nigra',\n",
    "     'breast':'breast_mammary_tissue',\n",
    "     'esophagus (gej)':'esophagus_gastroesophageal_junction',\n",
    "     'esophagus (mucosa)':'esophagus_mucosa',\n",
    "     'esophagus (muscularis)':'esophagus_muscularis',\n",
    "     'fibroblast':'cells_cultured_fibroblasts',\n",
    "     'heart (atrial appendage)':'heart_atrial_appendage',\n",
    "     'heart (left ventricle)':'heart_left_ventricle',\n",
    "     'kidney (cortex)':'kidney_cortex',\n",
    "     'liver':'liver',\n",
    "     'lung':'lung',\n",
    "     'minor salivary gland':'minor_salivary_gland',\n",
    "     'muscle':'muscle_skeletal',\n",
    "     'ovary':'ovary',\n",
    "     'pancreas':'pancreas',\n",
    "     'pituitary':'pituitary',\n",
    "     'prostate':'prostate',\n",
    "     'sigmoid colon':'colon_sigmoid',\n",
    "     'skin':'skin_sun_exposed_lower_leg',\n",
    "     'skin (suprapubic)':'skin_not_sun_exposed_suprapubic',\n",
    "     'small intestine':'small_intestine_terminal_ileum',\n",
    "     'spleen':'spleen',\n",
    "     'stomach':'stomach',\n",
    "     'testis':'testis',\n",
    "     'thyroid':'thyroid',\n",
    "     'tibial nerve':'nerve_tibial',\n",
    "     'transverse colon':'colon_transverse',\n",
    "     'uterus':'uterus',\n",
    "     'vagina':'vagina',\n",
    "}"
   ]
  },
  {
   "cell_type": "code",
   "execution_count": 8,
   "id": "fee0e8e9-967f-43b8-a75d-d6ba05af38a8",
   "metadata": {},
   "outputs": [],
   "source": [
    "susie_df['tissue_label_gtex'] = susie_df['tissue_label'].apply(lambda x: mapping[x])"
   ]
  },
  {
   "cell_type": "code",
   "execution_count": 9,
   "id": "5003b6a3-78d2-4360-a456-cb3936444d4c",
   "metadata": {},
   "outputs": [],
   "source": [
    "merged_df = gtex_df.merge(susie_df,on=['tissue_label_gtex','variant','gene_id'])"
   ]
  },
  {
   "cell_type": "code",
   "execution_count": 16,
   "id": "95a5bc0f-eeff-4c1c-b5de-bf85f2bbb4e4",
   "metadata": {},
   "outputs": [],
   "source": [
    "merged_df = merged_df.dropna(subset='afc')"
   ]
  },
  {
   "cell_type": "code",
   "execution_count": 17,
   "id": "417dc834-dda5-4201-a958-033bda0119b8",
   "metadata": {},
   "outputs": [
    {
     "name": "stdout",
     "output_type": "stream",
     "text": [
      "PearsonRResult(statistic=np.float64(0.9896187093377892), pvalue=np.float64(0.0))\n",
      "SignificanceResult(statistic=np.float64(0.9853893701892263), pvalue=np.float64(0.0))\n"
     ]
    }
   ],
   "source": [
    "print(scipy.stats.pearsonr(merged_df['beta'],merged_df['slope']))\n",
    "print(scipy.stats.spearmanr(merged_df['beta'],merged_df['slope']))"
   ]
  },
  {
   "cell_type": "code",
   "execution_count": 18,
   "id": "c7b2bb17-6af1-4c42-8ee8-ecdb45c54b91",
   "metadata": {},
   "outputs": [
    {
     "name": "stdout",
     "output_type": "stream",
     "text": [
      "PearsonRResult(statistic=np.float64(0.846221440020515), pvalue=np.float64(0.0))\n",
      "SignificanceResult(statistic=np.float64(0.913184012927561), pvalue=np.float64(0.0))\n"
     ]
    }
   ],
   "source": [
    "print(scipy.stats.pearsonr(merged_df['beta'],merged_df['afc']))\n",
    "print(scipy.stats.spearmanr(merged_df['beta'],merged_df['afc']))"
   ]
  },
  {
   "cell_type": "code",
   "execution_count": null,
   "id": "d3cf1c0d-df83-4f08-af15-036c1dcadaad",
   "metadata": {},
   "outputs": [],
   "source": []
  },
  {
   "cell_type": "code",
   "execution_count": null,
   "id": "b0bb8f1f-24b1-4799-9930-e460335b2b5a",
   "metadata": {},
   "outputs": [],
   "source": []
  }
 ],
 "metadata": {
  "kernelspec": {
   "display_name": "Python [conda env:anaconda-scooby_package]",
   "language": "python",
   "name": "conda-env-anaconda-scooby_package-py"
  },
  "language_info": {
   "codemirror_mode": {
    "name": "ipython",
    "version": 3
   },
   "file_extension": ".py",
   "mimetype": "text/x-python",
   "name": "python",
   "nbconvert_exporter": "python",
   "pygments_lexer": "ipython3",
   "version": "3.9.20"
  }
 },
 "nbformat": 4,
 "nbformat_minor": 5
}
